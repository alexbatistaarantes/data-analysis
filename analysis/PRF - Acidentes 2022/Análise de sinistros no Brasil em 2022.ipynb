{
 "cells": [
  {
   "cell_type": "markdown",
   "id": "1dca7b6b-93a8-42d8-8991-1f5bcc483edb",
   "metadata": {
    "tags": []
   },
   "source": [
    "# Inicialização"
   ]
  },
  {
   "cell_type": "code",
   "execution_count": 23,
   "id": "abdba0d8-f3bd-478f-b9ef-10d69958ba54",
   "metadata": {},
   "outputs": [],
   "source": [
    "import pandas as pd\n",
    "\n",
    "pd.set_option('display.max_columns', None)\n",
    "#pd.reset_option(‘max_columns’)"
   ]
  },
  {
   "cell_type": "code",
   "execution_count": 24,
   "id": "cd579c97-d524-4d11-b2c3-aa6d06ad1e65",
   "metadata": {},
   "outputs": [
    {
     "name": "stdout",
     "output_type": "stream",
     "text": [
      "<class 'pandas.core.frame.DataFrame'>\n",
      "RangeIndex: 519023 entries, 0 to 519022\n",
      "Data columns (total 37 columns):\n",
      " #   Column                  Non-Null Count   Dtype  \n",
      "---  ------                  --------------   -----  \n",
      " 0   id                      519023 non-null  int64  \n",
      " 1   pesid                   472415 non-null  float64\n",
      " 2   data_inversa            519023 non-null  object \n",
      " 3   dia_semana              519023 non-null  object \n",
      " 4   horario                 519023 non-null  object \n",
      " 5   uf                      519023 non-null  object \n",
      " 6   br                      517052 non-null  float64\n",
      " 7   km                      517052 non-null  object \n",
      " 8   municipio               519023 non-null  object \n",
      " 9   causa_principal         519023 non-null  object \n",
      " 10  causa_acidente          519023 non-null  object \n",
      " 11  ordem_tipo_acidente     519023 non-null  int64  \n",
      " 12  tipo_acidente           519023 non-null  object \n",
      " 13  classificacao_acidente  519023 non-null  object \n",
      " 14  fase_dia                519023 non-null  object \n",
      " 15  sentido_via             519023 non-null  object \n",
      " 16  condicao_metereologica  519023 non-null  object \n",
      " 17  tipo_pista              519023 non-null  object \n",
      " 18  tracado_via             519023 non-null  object \n",
      " 19  uso_solo                519023 non-null  object \n",
      " 20  id_veiculo              519023 non-null  int64  \n",
      " 21  tipo_veiculo            519023 non-null  object \n",
      " 22  marca                   495499 non-null  object \n",
      " 23  ano_fabricacao_veiculo  489336 non-null  float64\n",
      " 24  tipo_envolvido          519023 non-null  object \n",
      " 25  estado_fisico           519023 non-null  object \n",
      " 26  idade                   411343 non-null  float64\n",
      " 27  sexo                    519023 non-null  object \n",
      " 28  ilesos                  519023 non-null  int64  \n",
      " 29  feridos_leves           519023 non-null  int64  \n",
      " 30  feridos_graves          519023 non-null  int64  \n",
      " 31  mortos                  519023 non-null  int64  \n",
      " 32  latitude                519023 non-null  object \n",
      " 33  longitude               519023 non-null  object \n",
      " 34  regional                519006 non-null  object \n",
      " 35  delegacia               512155 non-null  object \n",
      " 36  uop                     518620 non-null  object \n",
      "dtypes: float64(4), int64(7), object(26)\n",
      "memory usage: 146.5+ MB\n"
     ]
    }
   ],
   "source": [
    "# acidentes\n",
    "ac = pd.read_csv(\"data/acidentes2022_todas_causas_tipos.csv\", sep=\";\", encoding=\"iso-8859-1\")\n",
    "ac.info()"
   ]
  },
  {
   "cell_type": "markdown",
   "id": "d3b137b4-b260-48e7-af36-7f08d41d413e",
   "metadata": {
    "tags": []
   },
   "source": [
    "## Preparação"
   ]
  },
  {
   "cell_type": "markdown",
   "id": "d5ad60a1-9a45-4d3a-b59c-abd212008f99",
   "metadata": {},
   "source": [
    "Criando uma tabela separada para pessoas envolvidas nos acidentes"
   ]
  },
  {
   "cell_type": "code",
   "execution_count": 25,
   "id": "cedba08a-10a8-49c6-ab74-865179d882f1",
   "metadata": {},
   "outputs": [
    {
     "ename": "KeyError",
     "evalue": "Index(['pesid'], dtype='object')",
     "output_type": "error",
     "traceback": [
      "\u001b[0;31m---------------------------------------------------------------------------\u001b[0m",
      "\u001b[0;31mKeyError\u001b[0m                                  Traceback (most recent call last)",
      "Cell \u001b[0;32mIn[25], line 4\u001b[0m\n\u001b[1;32m      1\u001b[0m colunas_pessoa \u001b[38;5;241m=\u001b[39m [\u001b[38;5;124m'\u001b[39m\u001b[38;5;124mpesid\u001b[39m\u001b[38;5;124m'\u001b[39m, \u001b[38;5;124m\"\u001b[39m\u001b[38;5;124mid_veiculo\u001b[39m\u001b[38;5;124m\"\u001b[39m, \u001b[38;5;124m\"\u001b[39m\u001b[38;5;124mtipo_veiculo\u001b[39m\u001b[38;5;124m\"\u001b[39m, \u001b[38;5;124m\"\u001b[39m\u001b[38;5;124mmarca\u001b[39m\u001b[38;5;124m\"\u001b[39m, \u001b[38;5;124m\"\u001b[39m\u001b[38;5;124mano_fabricacao_veiculo\u001b[39m\u001b[38;5;124m\"\u001b[39m, \u001b[38;5;124m\"\u001b[39m\u001b[38;5;124mtipo_envolvido\u001b[39m\u001b[38;5;124m\"\u001b[39m, \u001b[38;5;124m\"\u001b[39m\u001b[38;5;124mestado_fisico\u001b[39m\u001b[38;5;124m\"\u001b[39m, \u001b[38;5;124m\"\u001b[39m\u001b[38;5;124midade\u001b[39m\u001b[38;5;124m\"\u001b[39m, \u001b[38;5;124m\"\u001b[39m\u001b[38;5;124msexo\u001b[39m\u001b[38;5;124m\"\u001b[39m, \u001b[38;5;124m\"\u001b[39m\u001b[38;5;124milesos\u001b[39m\u001b[38;5;124m\"\u001b[39m, \u001b[38;5;124m\"\u001b[39m\u001b[38;5;124mferidos_leves\u001b[39m\u001b[38;5;124m\"\u001b[39m, \u001b[38;5;124m\"\u001b[39m\u001b[38;5;124mferidos_graves\u001b[39m\u001b[38;5;124m\"\u001b[39m, \u001b[38;5;124m\"\u001b[39m\u001b[38;5;124mmortos\u001b[39m\u001b[38;5;124m\"\u001b[39m]\n\u001b[1;32m      3\u001b[0m \u001b[38;5;66;03m# pessoas envolvidas\u001b[39;00m\n\u001b[0;32m----> 4\u001b[0m ps \u001b[38;5;241m=\u001b[39m \u001b[43mdf\u001b[49m\u001b[38;5;241;43m.\u001b[39;49m\u001b[43mdrop_duplicates\u001b[49m\u001b[43m(\u001b[49m\u001b[43m[\u001b[49m\u001b[38;5;124;43m'\u001b[39;49m\u001b[38;5;124;43mid\u001b[39;49m\u001b[38;5;124;43m'\u001b[39;49m\u001b[43m,\u001b[49m\u001b[43m \u001b[49m\u001b[38;5;124;43m'\u001b[39;49m\u001b[38;5;124;43mpesid\u001b[39;49m\u001b[38;5;124;43m'\u001b[39;49m\u001b[43m]\u001b[49m\u001b[43m)\u001b[49m[[\u001b[38;5;124m'\u001b[39m\u001b[38;5;124mid\u001b[39m\u001b[38;5;124m'\u001b[39m] \u001b[38;5;241m+\u001b[39m colunas_pessoa]\n\u001b[1;32m      5\u001b[0m ac\u001b[38;5;241m.\u001b[39mdrop(colunas_pessoa, axis\u001b[38;5;241m=\u001b[39m\u001b[38;5;241m1\u001b[39m, inplace\u001b[38;5;241m=\u001b[39m\u001b[38;5;28;01mTrue\u001b[39;00m)\n\u001b[1;32m      6\u001b[0m ps\u001b[38;5;241m.\u001b[39mhead()\n",
      "File \u001b[0;32m~/.local/lib/python3.9/site-packages/pandas/util/_decorators.py:331\u001b[0m, in \u001b[0;36mdeprecate_nonkeyword_arguments.<locals>.decorate.<locals>.wrapper\u001b[0;34m(*args, **kwargs)\u001b[0m\n\u001b[1;32m    325\u001b[0m \u001b[38;5;28;01mif\u001b[39;00m \u001b[38;5;28mlen\u001b[39m(args) \u001b[38;5;241m>\u001b[39m num_allow_args:\n\u001b[1;32m    326\u001b[0m     warnings\u001b[38;5;241m.\u001b[39mwarn(\n\u001b[1;32m    327\u001b[0m         msg\u001b[38;5;241m.\u001b[39mformat(arguments\u001b[38;5;241m=\u001b[39m_format_argument_list(allow_args)),\n\u001b[1;32m    328\u001b[0m         \u001b[38;5;167;01mFutureWarning\u001b[39;00m,\n\u001b[1;32m    329\u001b[0m         stacklevel\u001b[38;5;241m=\u001b[39mfind_stack_level(),\n\u001b[1;32m    330\u001b[0m     )\n\u001b[0;32m--> 331\u001b[0m \u001b[38;5;28;01mreturn\u001b[39;00m \u001b[43mfunc\u001b[49m\u001b[43m(\u001b[49m\u001b[38;5;241;43m*\u001b[39;49m\u001b[43margs\u001b[49m\u001b[43m,\u001b[49m\u001b[43m \u001b[49m\u001b[38;5;241;43m*\u001b[39;49m\u001b[38;5;241;43m*\u001b[39;49m\u001b[43mkwargs\u001b[49m\u001b[43m)\u001b[49m\n",
      "File \u001b[0;32m~/.local/lib/python3.9/site-packages/pandas/core/frame.py:6672\u001b[0m, in \u001b[0;36mDataFrame.drop_duplicates\u001b[0;34m(self, subset, keep, inplace, ignore_index)\u001b[0m\n\u001b[1;32m   6670\u001b[0m inplace \u001b[38;5;241m=\u001b[39m validate_bool_kwarg(inplace, \u001b[38;5;124m\"\u001b[39m\u001b[38;5;124minplace\u001b[39m\u001b[38;5;124m\"\u001b[39m)\n\u001b[1;32m   6671\u001b[0m ignore_index \u001b[38;5;241m=\u001b[39m validate_bool_kwarg(ignore_index, \u001b[38;5;124m\"\u001b[39m\u001b[38;5;124mignore_index\u001b[39m\u001b[38;5;124m\"\u001b[39m)\n\u001b[0;32m-> 6672\u001b[0m duplicated \u001b[38;5;241m=\u001b[39m \u001b[38;5;28;43mself\u001b[39;49m\u001b[38;5;241;43m.\u001b[39;49m\u001b[43mduplicated\u001b[49m\u001b[43m(\u001b[49m\u001b[43msubset\u001b[49m\u001b[43m,\u001b[49m\u001b[43m \u001b[49m\u001b[43mkeep\u001b[49m\u001b[38;5;241;43m=\u001b[39;49m\u001b[43mkeep\u001b[49m\u001b[43m)\u001b[49m\n\u001b[1;32m   6674\u001b[0m result \u001b[38;5;241m=\u001b[39m \u001b[38;5;28mself\u001b[39m[\u001b[38;5;241m-\u001b[39mduplicated]\n\u001b[1;32m   6675\u001b[0m \u001b[38;5;28;01mif\u001b[39;00m ignore_index:\n",
      "File \u001b[0;32m~/.local/lib/python3.9/site-packages/pandas/core/frame.py:6806\u001b[0m, in \u001b[0;36mDataFrame.duplicated\u001b[0;34m(self, subset, keep)\u001b[0m\n\u001b[1;32m   6804\u001b[0m diff \u001b[38;5;241m=\u001b[39m \u001b[38;5;28mset\u001b[39m(subset) \u001b[38;5;241m-\u001b[39m \u001b[38;5;28mset\u001b[39m(\u001b[38;5;28mself\u001b[39m\u001b[38;5;241m.\u001b[39mcolumns)\n\u001b[1;32m   6805\u001b[0m \u001b[38;5;28;01mif\u001b[39;00m diff:\n\u001b[0;32m-> 6806\u001b[0m     \u001b[38;5;28;01mraise\u001b[39;00m \u001b[38;5;167;01mKeyError\u001b[39;00m(Index(diff))\n\u001b[1;32m   6808\u001b[0m \u001b[38;5;28;01mif\u001b[39;00m \u001b[38;5;28mlen\u001b[39m(subset) \u001b[38;5;241m==\u001b[39m \u001b[38;5;241m1\u001b[39m \u001b[38;5;129;01mand\u001b[39;00m \u001b[38;5;28mself\u001b[39m\u001b[38;5;241m.\u001b[39mcolumns\u001b[38;5;241m.\u001b[39mis_unique:\n\u001b[1;32m   6809\u001b[0m     \u001b[38;5;66;03m# GH#45236 This is faster than get_group_index below\u001b[39;00m\n\u001b[1;32m   6810\u001b[0m     result \u001b[38;5;241m=\u001b[39m \u001b[38;5;28mself\u001b[39m[subset[\u001b[38;5;241m0\u001b[39m]]\u001b[38;5;241m.\u001b[39mduplicated(keep)\n",
      "\u001b[0;31mKeyError\u001b[0m: Index(['pesid'], dtype='object')"
     ]
    }
   ],
   "source": [
    "colunas_pessoa = ['pesid', \"id_veiculo\", \"tipo_veiculo\", \"marca\", \"ano_fabricacao_veiculo\", \"tipo_envolvido\", \"estado_fisico\", \"idade\", \"sexo\", \"ilesos\", \"feridos_leves\", \"feridos_graves\", \"mortos\"]\n",
    "\n",
    "# pessoas envolvidas\n",
    "ps = ac.drop_duplicates(['id', 'pesid'])[['id'] + colunas_pessoa]\n",
    "ac.drop(colunas_pessoa, axis=1, inplace=True)\n",
    "ps.head()"
   ]
  },
  {
   "cell_type": "markdown",
   "id": "8b82cfa5-43ed-46ea-9607-d35ef6d0ee10",
   "metadata": {},
   "source": [
    "Criando uma tabela separada para as causas e tipos de acidente"
   ]
  },
  {
   "cell_type": "code",
   "execution_count": null,
   "id": "4a4bb2d2-5b58-4571-b141-3c5e3368281d",
   "metadata": {},
   "outputs": [],
   "source": [
    "colunas_causas = [\"causa_principal\", \"causa_acidente\", \"ordem_tipo_acidente\", \"tipo_acidente\"]\n",
    "\n",
    "# causas\n",
    "ca = ac.drop_duplicates(colunas_causas)[['id'] + colunas_causas]\n",
    "ac.drop(colunas_causas, axis=1, inplace=True)\n",
    "ca.head()"
   ]
  },
  {
   "cell_type": "markdown",
   "id": "adb1d3d2",
   "metadata": {},
   "source": [
    "Removendo duplicadas dos acidentes (um mesmo acidente aparece varias vezes já que aparece uma vez para cada causa e cada pessoa)"
   ]
  },
  {
   "cell_type": "code",
   "execution_count": null,
   "id": "138508cc",
   "metadata": {},
   "outputs": [],
   "source": [
    "ac.drop_duplicates('id', inplace=True)\n",
    "ac.shape"
   ]
  },
  {
   "cell_type": "markdown",
   "id": "15405c8b-6cb7-4338-9429-c14910b52c2e",
   "metadata": {
    "tags": []
   },
   "source": [
    "# Indicadores"
   ]
  },
  {
   "cell_type": "code",
   "execution_count": null,
   "id": "395dd56c-8945-47ab-a3dc-4418367d1f56",
   "metadata": {},
   "outputs": [],
   "source": [
    "quantidade_de_acidentes = df.shape[0]"
   ]
  },
  {
   "cell_type": "code",
   "execution_count": null,
   "id": "b790acc0-656f-444c-b84c-e6a192822939",
   "metadata": {},
   "outputs": [],
   "source": [
    "ac[ac.id==405158]"
   ]
  },
  {
   "cell_type": "code",
   "execution_count": null,
   "id": "8f66ed37-89ea-45f6-9a31-30899e9479dd",
   "metadata": {},
   "outputs": [],
   "source": [
    "ps[ps.id==405158]"
   ]
  },
  {
   "cell_type": "code",
   "execution_count": null,
   "id": "2c20e7c4-1591-49de-b11c-5fb0f3245328",
   "metadata": {},
   "outputs": [],
   "source": []
  }
 ],
 "metadata": {
  "kernelspec": {
   "display_name": "Python 3 (ipykernel)",
   "language": "python",
   "name": "python3"
  },
  "language_info": {
   "codemirror_mode": {
    "name": "ipython",
    "version": 3
   },
   "file_extension": ".py",
   "mimetype": "text/x-python",
   "name": "python",
   "nbconvert_exporter": "python",
   "pygments_lexer": "ipython3",
   "version": "3.9.2"
  }
 },
 "nbformat": 4,
 "nbformat_minor": 5
}
